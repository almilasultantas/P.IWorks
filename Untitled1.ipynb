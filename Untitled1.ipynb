{
 "cells": [
  {
   "cell_type": "code",
   "execution_count": 1,
   "id": "6070ceee",
   "metadata": {},
   "outputs": [
    {
     "data": {
      "text/html": [
       "<div>\n",
       "<style scoped>\n",
       "    .dataframe tbody tr th:only-of-type {\n",
       "        vertical-align: middle;\n",
       "    }\n",
       "\n",
       "    .dataframe tbody tr th {\n",
       "        vertical-align: top;\n",
       "    }\n",
       "\n",
       "    .dataframe thead th {\n",
       "        text-align: right;\n",
       "    }\n",
       "</style>\n",
       "<table border=\"1\" class=\"dataframe\">\n",
       "  <thead>\n",
       "    <tr style=\"text-align: right;\">\n",
       "      <th></th>\n",
       "      <th>timestamp</th>\n",
       "      <th>municipality_id</th>\n",
       "      <th>usage</th>\n",
       "      <th>total_capacity</th>\n",
       "    </tr>\n",
       "  </thead>\n",
       "  <tbody>\n",
       "    <tr>\n",
       "      <th>0</th>\n",
       "      <td>2017-06-04 07:59:42</td>\n",
       "      <td>9</td>\n",
       "      <td>454</td>\n",
       "      <td>1332</td>\n",
       "    </tr>\n",
       "    <tr>\n",
       "      <th>1</th>\n",
       "      <td>2017-06-04 07:59:42</td>\n",
       "      <td>8</td>\n",
       "      <td>556</td>\n",
       "      <td>2947</td>\n",
       "    </tr>\n",
       "    <tr>\n",
       "      <th>2</th>\n",
       "      <td>2017-06-04 07:59:42</td>\n",
       "      <td>4</td>\n",
       "      <td>1090</td>\n",
       "      <td>3893</td>\n",
       "    </tr>\n",
       "    <tr>\n",
       "      <th>3</th>\n",
       "      <td>2017-06-04 07:59:42</td>\n",
       "      <td>0</td>\n",
       "      <td>204</td>\n",
       "      <td>2813</td>\n",
       "    </tr>\n",
       "    <tr>\n",
       "      <th>4</th>\n",
       "      <td>2017-06-04 07:59:42</td>\n",
       "      <td>7</td>\n",
       "      <td>718</td>\n",
       "      <td>2019</td>\n",
       "    </tr>\n",
       "  </tbody>\n",
       "</table>\n",
       "</div>"
      ],
      "text/plain": [
       "             timestamp  municipality_id  usage  total_capacity\n",
       "0  2017-06-04 07:59:42                9    454            1332\n",
       "1  2017-06-04 07:59:42                8    556            2947\n",
       "2  2017-06-04 07:59:42                4   1090            3893\n",
       "3  2017-06-04 07:59:42                0    204            2813\n",
       "4  2017-06-04 07:59:42                7    718            2019"
      ]
     },
     "execution_count": 1,
     "metadata": {},
     "output_type": "execute_result"
    }
   ],
   "source": [
    "import pandas as pd \n",
    "df= pd.read_csv(\"municipality_bus_utilization.csv\")\n",
    "df.head()"
   ]
  },
  {
   "cell_type": "code",
   "execution_count": 2,
   "id": "500edc6c",
   "metadata": {},
   "outputs": [
    {
     "data": {
      "text/plain": [
       "timestamp          0\n",
       "municipality_id    0\n",
       "usage              0\n",
       "total_capacity     0\n",
       "dtype: int64"
      ]
     },
     "execution_count": 2,
     "metadata": {},
     "output_type": "execute_result"
    }
   ],
   "source": [
    "df.isnull().sum()\n",
    "# there is no empty values"
   ]
  },
  {
   "cell_type": "code",
   "execution_count": 3,
   "id": "ee37cb2f",
   "metadata": {},
   "outputs": [
    {
     "data": {
      "text/plain": [
       "(13070, 4)"
      ]
     },
     "execution_count": 3,
     "metadata": {},
     "output_type": "execute_result"
    }
   ],
   "source": [
    "df.shape"
   ]
  },
  {
   "cell_type": "code",
   "execution_count": 4,
   "id": "06c489c2",
   "metadata": {},
   "outputs": [
    {
     "data": {
      "text/html": [
       "<div>\n",
       "<style scoped>\n",
       "    .dataframe tbody tr th:only-of-type {\n",
       "        vertical-align: middle;\n",
       "    }\n",
       "\n",
       "    .dataframe tbody tr th {\n",
       "        vertical-align: top;\n",
       "    }\n",
       "\n",
       "    .dataframe thead th {\n",
       "        text-align: right;\n",
       "    }\n",
       "</style>\n",
       "<table border=\"1\" class=\"dataframe\">\n",
       "  <thead>\n",
       "    <tr style=\"text-align: right;\">\n",
       "      <th></th>\n",
       "      <th>usage</th>\n",
       "    </tr>\n",
       "  </thead>\n",
       "  <tbody>\n",
       "    <tr>\n",
       "      <th>count</th>\n",
       "      <td>13070.000000</td>\n",
       "    </tr>\n",
       "    <tr>\n",
       "      <th>mean</th>\n",
       "      <td>876.002984</td>\n",
       "    </tr>\n",
       "    <tr>\n",
       "      <th>std</th>\n",
       "      <td>679.287109</td>\n",
       "    </tr>\n",
       "    <tr>\n",
       "      <th>min</th>\n",
       "      <td>11.000000</td>\n",
       "    </tr>\n",
       "    <tr>\n",
       "      <th>25%</th>\n",
       "      <td>403.000000</td>\n",
       "    </tr>\n",
       "    <tr>\n",
       "      <th>50%</th>\n",
       "      <td>692.000000</td>\n",
       "    </tr>\n",
       "    <tr>\n",
       "      <th>75%</th>\n",
       "      <td>1190.000000</td>\n",
       "    </tr>\n",
       "    <tr>\n",
       "      <th>max</th>\n",
       "      <td>3508.000000</td>\n",
       "    </tr>\n",
       "  </tbody>\n",
       "</table>\n",
       "</div>"
      ],
      "text/plain": [
       "              usage\n",
       "count  13070.000000\n",
       "mean     876.002984\n",
       "std      679.287109\n",
       "min       11.000000\n",
       "25%      403.000000\n",
       "50%      692.000000\n",
       "75%     1190.000000\n",
       "max     3508.000000"
      ]
     },
     "execution_count": 4,
     "metadata": {},
     "output_type": "execute_result"
    }
   ],
   "source": [
    "import numpy as np\n",
    "df.describe()[[\"usage\"]]"
   ]
  },
  {
   "cell_type": "code",
   "execution_count": 5,
   "id": "82de036f",
   "metadata": {},
   "outputs": [
    {
     "data": {
      "text/plain": [
       "<AxesSubplot:xlabel='usage'>"
      ]
     },
     "execution_count": 5,
     "metadata": {},
     "output_type": "execute_result"
    },
    {
     "data": {
      "image/png": "[encoded data removed]",
      "text/plain": [
       "<Figure size 640x480 with 1 Axes>"
      ]
     },
     "metadata": {},
     "output_type": "display_data"
    }
   ],
   "source": [
    "import seaborn as sns\n",
    "sns.boxplot(x=df[\"usage\"])"
   ]
  },
  {
   "cell_type": "code",
   "execution_count": 6,
   "id": "e8e014df",
   "metadata": {},
   "outputs": [
    {
     "data": {
      "text/plain": [
       "<AxesSubplot:xlabel='usage'>"
      ]
     },
     "execution_count": 6,
     "metadata": {},
     "output_type": "execute_result"
    },
    {
     "data": {
      "image/png": "[encoded data removed]",
      "text/plain": [
       "<Figure size 640x480 with 1 Axes>"
      ]
     },
     "metadata": {},
     "output_type": "display_data"
    }
   ],
   "source": [
    "a_list=np.where(df[\"usage\"]>2200)\n",
    "df.drop(df.index[a_list], axis = 0, inplace = True)\n",
    "sns.boxplot(x=df[\"usage\"])"
   ]
  },
  {
   "cell_type": "code",
   "execution_count": 7,
   "id": "f7b2af1f",
   "metadata": {},
   "outputs": [
    {
     "data": {
      "text/plain": [
       "(12282, 4)"
      ]
     },
     "execution_count": 7,
     "metadata": {},
     "output_type": "execute_result"
    }
   ],
   "source": [
    "df.shape"
   ]
  },
  {
   "cell_type": "code",
   "execution_count": 8,
   "id": "510ef583",
   "metadata": {},
   "outputs": [
    {
     "name": "stdout",
     "output_type": "stream",
     "text": [
      "<class 'pandas.core.frame.DataFrame'>\n",
      "Int64Index: 12282 entries, 0 to 13069\n",
      "Data columns (total 4 columns):\n",
      " #   Column           Non-Null Count  Dtype \n",
      "---  ------           --------------  ----- \n",
      " 0   timestamp        12282 non-null  object\n",
      " 1   municipality_id  12282 non-null  int64 \n",
      " 2   usage            12282 non-null  int64 \n",
      " 3   total_capacity   12282 non-null  int64 \n",
      "dtypes: int64(3), object(1)\n",
      "memory usage: 479.8+ KB\n"
     ]
    }
   ],
   "source": [
    "df.info()"
   ]
  },
  {
   "cell_type": "code",
   "execution_count": 9,
   "id": "567486ca",
   "metadata": {},
   "outputs": [
    {
     "data": {
      "text/html": [
       "<div>\n",
       "<style scoped>\n",
       "    .dataframe tbody tr th:only-of-type {\n",
       "        vertical-align: middle;\n",
       "    }\n",
       "\n",
       "    .dataframe tbody tr th {\n",
       "        vertical-align: top;\n",
       "    }\n",
       "\n",
       "    .dataframe thead th {\n",
       "        text-align: right;\n",
       "    }\n",
       "</style>\n",
       "<table border=\"1\" class=\"dataframe\">\n",
       "  <thead>\n",
       "    <tr style=\"text-align: right;\">\n",
       "      <th></th>\n",
       "      <th>timestamp</th>\n",
       "      <th>municipality_id</th>\n",
       "      <th>usage</th>\n",
       "      <th>total_capacity</th>\n",
       "    </tr>\n",
       "  </thead>\n",
       "  <tbody>\n",
       "    <tr>\n",
       "      <th>7618</th>\n",
       "      <td>2017-07-17 12:04:02</td>\n",
       "      <td>1</td>\n",
       "      <td>399</td>\n",
       "      <td>397</td>\n",
       "    </tr>\n",
       "    <tr>\n",
       "      <th>7621</th>\n",
       "      <td>2017-07-17 12:31:03</td>\n",
       "      <td>1</td>\n",
       "      <td>401</td>\n",
       "      <td>397</td>\n",
       "    </tr>\n",
       "    <tr>\n",
       "      <th>7635</th>\n",
       "      <td>2017-07-17 13:04:03</td>\n",
       "      <td>1</td>\n",
       "      <td>399</td>\n",
       "      <td>397</td>\n",
       "    </tr>\n",
       "    <tr>\n",
       "      <th>7648</th>\n",
       "      <td>2017-07-17 13:31:03</td>\n",
       "      <td>1</td>\n",
       "      <td>403</td>\n",
       "      <td>397</td>\n",
       "    </tr>\n",
       "    <tr>\n",
       "      <th>7659</th>\n",
       "      <td>2017-07-17 14:04:03</td>\n",
       "      <td>1</td>\n",
       "      <td>403</td>\n",
       "      <td>397</td>\n",
       "    </tr>\n",
       "    <tr>\n",
       "      <th>...</th>\n",
       "      <td>...</td>\n",
       "      <td>...</td>\n",
       "      <td>...</td>\n",
       "      <td>...</td>\n",
       "    </tr>\n",
       "    <tr>\n",
       "      <th>13010</th>\n",
       "      <td>2017-08-19 14:03:31</td>\n",
       "      <td>1</td>\n",
       "      <td>408</td>\n",
       "      <td>397</td>\n",
       "    </tr>\n",
       "    <tr>\n",
       "      <th>13026</th>\n",
       "      <td>2017-08-19 14:30:33</td>\n",
       "      <td>1</td>\n",
       "      <td>410</td>\n",
       "      <td>397</td>\n",
       "    </tr>\n",
       "    <tr>\n",
       "      <th>13037</th>\n",
       "      <td>2017-08-19 15:03:34</td>\n",
       "      <td>1</td>\n",
       "      <td>408</td>\n",
       "      <td>397</td>\n",
       "    </tr>\n",
       "    <tr>\n",
       "      <th>13048</th>\n",
       "      <td>2017-08-19 15:29:33</td>\n",
       "      <td>1</td>\n",
       "      <td>411</td>\n",
       "      <td>397</td>\n",
       "    </tr>\n",
       "    <tr>\n",
       "      <th>13053</th>\n",
       "      <td>2017-08-19 16:03:35</td>\n",
       "      <td>1</td>\n",
       "      <td>401</td>\n",
       "      <td>397</td>\n",
       "    </tr>\n",
       "  </tbody>\n",
       "</table>\n",
       "<p>229 rows × 4 columns</p>\n",
       "</div>"
      ],
      "text/plain": [
       "                 timestamp  municipality_id  usage  total_capacity\n",
       "7618   2017-07-17 12:04:02                1    399             397\n",
       "7621   2017-07-17 12:31:03                1    401             397\n",
       "7635   2017-07-17 13:04:03                1    399             397\n",
       "7648   2017-07-17 13:31:03                1    403             397\n",
       "7659   2017-07-17 14:04:03                1    403             397\n",
       "...                    ...              ...    ...             ...\n",
       "13010  2017-08-19 14:03:31                1    408             397\n",
       "13026  2017-08-19 14:30:33                1    410             397\n",
       "13037  2017-08-19 15:03:34                1    408             397\n",
       "13048  2017-08-19 15:29:33                1    411             397\n",
       "13053  2017-08-19 16:03:35                1    401             397\n",
       "\n",
       "[229 rows x 4 columns]"
      ]
     },
     "execution_count": 9,
     "metadata": {},
     "output_type": "execute_result"
    }
   ],
   "source": [
    " df.loc[(df[\"usage\"] > df[\"total_capacity\"])]\n",
    "# there is outlier values "
   ]
  },
  {
   "cell_type": "code",
   "execution_count": 10,
   "id": "5c5102f1",
   "metadata": {},
   "outputs": [
    {
     "name": "stdout",
     "output_type": "stream",
     "text": [
      "                 timestamp  municipality_id  usage  total_capacity     outlier\n",
      "0      2017-06-04 07:59:42                9    454            1332  notproblem\n",
      "1      2017-06-04 07:59:42                8    556            2947  notproblem\n",
      "2      2017-06-04 07:59:42                4   1090            3893  notproblem\n",
      "3      2017-06-04 07:59:42                0    204            2813  notproblem\n",
      "4      2017-06-04 07:59:42                7    718            2019  notproblem\n",
      "...                    ...              ...    ...             ...         ...\n",
      "13065  2017-08-19 16:30:35                2    548             697  notproblem\n",
      "13066  2017-08-19 16:30:35                8   1193            2947  notproblem\n",
      "13067  2017-08-19 16:30:35                7   1354            2019  notproblem\n",
      "13068  2017-08-19 16:30:35                6   1680            3113  notproblem\n",
      "13069  2017-08-19 16:30:35                3   1189            1930  notproblem\n",
      "\n",
      "[12282 rows x 5 columns]\n"
     ]
    }
   ],
   "source": [
    "#we can delete this rows \n",
    "conditions = [df[\"usage\"]>df[\"total_capacity\"],df[\"usage\"]<df[\"total_capacity\"]]\n",
    "choices=[\"problem\", \"notproblem\"]\n",
    "df[\"outlier\"] = np.select(conditions, choices, default='Tie')\n",
    "print(df)\n",
    "#we drop the outlier rows\n",
    "df.drop(df.index[(df[\"outlier\"] == \"problem\")], axis = 0, inplace = True)"
   ]
  },
  {
   "cell_type": "code",
   "execution_count": 11,
   "id": "4e861ccb",
   "metadata": {},
   "outputs": [
    {
     "data": {
      "text/plain": [
       "(12053, 5)"
      ]
     },
     "execution_count": 11,
     "metadata": {},
     "output_type": "execute_result"
    }
   ],
   "source": [
    "#we check the data size \n",
    "df.shape"
   ]
  },
  {
   "cell_type": "code",
   "execution_count": 12,
   "id": "a324f53b",
   "metadata": {},
   "outputs": [
    {
     "name": "stdout",
     "output_type": "stream",
     "text": [
      "(12053, 4)\n"
     ]
    }
   ],
   "source": [
    "df.drop(\"outlier\", axis = 1, inplace = True)\n",
    "print(df.shape)\n",
    "sizeofdf=df.shape[0]\n"
   ]
  },
  {
   "cell_type": "code",
   "execution_count": 13,
   "id": "03314792",
   "metadata": {},
   "outputs": [
    {
     "data": {
      "text/html": [
       "<div>\n",
       "<style scoped>\n",
       "    .dataframe tbody tr th:only-of-type {\n",
       "        vertical-align: middle;\n",
       "    }\n",
       "\n",
       "    .dataframe tbody tr th {\n",
       "        vertical-align: top;\n",
       "    }\n",
       "\n",
       "    .dataframe thead th {\n",
       "        text-align: right;\n",
       "    }\n",
       "</style>\n",
       "<table border=\"1\" class=\"dataframe\">\n",
       "  <thead>\n",
       "    <tr style=\"text-align: right;\">\n",
       "      <th></th>\n",
       "      <th>timestamp</th>\n",
       "      <th>municipality_id</th>\n",
       "      <th>usage</th>\n",
       "      <th>total_capacity</th>\n",
       "    </tr>\n",
       "  </thead>\n",
       "  <tbody>\n",
       "    <tr>\n",
       "      <th>0</th>\n",
       "      <td>2017-06-04 07:59:42</td>\n",
       "      <td>9</td>\n",
       "      <td>454</td>\n",
       "      <td>1332</td>\n",
       "    </tr>\n",
       "    <tr>\n",
       "      <th>1</th>\n",
       "      <td>2017-06-04 07:59:42</td>\n",
       "      <td>8</td>\n",
       "      <td>556</td>\n",
       "      <td>2947</td>\n",
       "    </tr>\n",
       "    <tr>\n",
       "      <th>2</th>\n",
       "      <td>2017-06-04 07:59:42</td>\n",
       "      <td>4</td>\n",
       "      <td>1090</td>\n",
       "      <td>3893</td>\n",
       "    </tr>\n",
       "    <tr>\n",
       "      <th>3</th>\n",
       "      <td>2017-06-04 07:59:42</td>\n",
       "      <td>0</td>\n",
       "      <td>204</td>\n",
       "      <td>2813</td>\n",
       "    </tr>\n",
       "    <tr>\n",
       "      <th>4</th>\n",
       "      <td>2017-06-04 07:59:42</td>\n",
       "      <td>7</td>\n",
       "      <td>718</td>\n",
       "      <td>2019</td>\n",
       "    </tr>\n",
       "  </tbody>\n",
       "</table>\n",
       "</div>"
      ],
      "text/plain": [
       "             timestamp  municipality_id  usage  total_capacity\n",
       "0  2017-06-04 07:59:42                9    454            1332\n",
       "1  2017-06-04 07:59:42                8    556            2947\n",
       "2  2017-06-04 07:59:42                4   1090            3893\n",
       "3  2017-06-04 07:59:42                0    204            2813\n",
       "4  2017-06-04 07:59:42                7    718            2019"
      ]
     },
     "execution_count": 13,
     "metadata": {},
     "output_type": "execute_result"
    }
   ],
   "source": [
    "df.head()"
   ]
  },
  {
   "cell_type": "code",
   "execution_count": 14,
   "id": "6aa85786",
   "metadata": {},
   "outputs": [
    {
     "data": {
      "text/html": [
       "<div>\n",
       "<style scoped>\n",
       "    .dataframe tbody tr th:only-of-type {\n",
       "        vertical-align: middle;\n",
       "    }\n",
       "\n",
       "    .dataframe tbody tr th {\n",
       "        vertical-align: top;\n",
       "    }\n",
       "\n",
       "    .dataframe thead th {\n",
       "        text-align: right;\n",
       "    }\n",
       "</style>\n",
       "<table border=\"1\" class=\"dataframe\">\n",
       "  <thead>\n",
       "    <tr style=\"text-align: right;\">\n",
       "      <th></th>\n",
       "      <th>municipality_id</th>\n",
       "      <th>usage</th>\n",
       "      <th>total_capacity</th>\n",
       "      <th>Date</th>\n",
       "      <th>Clock</th>\n",
       "    </tr>\n",
       "  </thead>\n",
       "  <tbody>\n",
       "    <tr>\n",
       "      <th>0</th>\n",
       "      <td>9</td>\n",
       "      <td>454</td>\n",
       "      <td>1332</td>\n",
       "      <td>2017-06-04</td>\n",
       "      <td>07:59:42</td>\n",
       "    </tr>\n",
       "    <tr>\n",
       "      <th>1</th>\n",
       "      <td>8</td>\n",
       "      <td>556</td>\n",
       "      <td>2947</td>\n",
       "      <td>2017-06-04</td>\n",
       "      <td>07:59:42</td>\n",
       "    </tr>\n",
       "    <tr>\n",
       "      <th>2</th>\n",
       "      <td>4</td>\n",
       "      <td>1090</td>\n",
       "      <td>3893</td>\n",
       "      <td>2017-06-04</td>\n",
       "      <td>07:59:42</td>\n",
       "    </tr>\n",
       "    <tr>\n",
       "      <th>3</th>\n",
       "      <td>0</td>\n",
       "      <td>204</td>\n",
       "      <td>2813</td>\n",
       "      <td>2017-06-04</td>\n",
       "      <td>07:59:42</td>\n",
       "    </tr>\n",
       "    <tr>\n",
       "      <th>4</th>\n",
       "      <td>7</td>\n",
       "      <td>718</td>\n",
       "      <td>2019</td>\n",
       "      <td>2017-06-04</td>\n",
       "      <td>07:59:42</td>\n",
       "    </tr>\n",
       "  </tbody>\n",
       "</table>\n",
       "</div>"
      ],
      "text/plain": [
       "   municipality_id  usage  total_capacity        Date     Clock\n",
       "0                9    454            1332  2017-06-04  07:59:42\n",
       "1                8    556            2947  2017-06-04  07:59:42\n",
       "2                4   1090            3893  2017-06-04  07:59:42\n",
       "3                0    204            2813  2017-06-04  07:59:42\n",
       "4                7    718            2019  2017-06-04  07:59:42"
      ]
     },
     "execution_count": 14,
     "metadata": {},
     "output_type": "execute_result"
    }
   ],
   "source": [
    "df[\"Date\"] = pd.to_datetime(df[\"timestamp\"]).dt.date\n",
    "df[\"Clock\"] =  pd.to_datetime(df[\"timestamp\"]).dt.time\n",
    "df.drop(\"timestamp\", axis = 1, inplace = True)\n",
    "df.head()"
   ]
  },
  {
   "cell_type": "code",
   "execution_count": 15,
   "id": "131d62c4",
   "metadata": {},
   "outputs": [
    {
     "data": {
      "text/html": [
       "<div>\n",
       "<style scoped>\n",
       "    .dataframe tbody tr th:only-of-type {\n",
       "        vertical-align: middle;\n",
       "    }\n",
       "\n",
       "    .dataframe tbody tr th {\n",
       "        vertical-align: top;\n",
       "    }\n",
       "\n",
       "    .dataframe thead th {\n",
       "        text-align: right;\n",
       "    }\n",
       "</style>\n",
       "<table border=\"1\" class=\"dataframe\">\n",
       "  <thead>\n",
       "    <tr style=\"text-align: right;\">\n",
       "      <th></th>\n",
       "      <th>municipality_id</th>\n",
       "      <th>usage</th>\n",
       "      <th>total_capacity</th>\n",
       "      <th>Date</th>\n",
       "      <th>Hour</th>\n",
       "      <th>Minute</th>\n",
       "      <th>Second</th>\n",
       "    </tr>\n",
       "  </thead>\n",
       "  <tbody>\n",
       "    <tr>\n",
       "      <th>0</th>\n",
       "      <td>9</td>\n",
       "      <td>454</td>\n",
       "      <td>1332</td>\n",
       "      <td>2017-06-04</td>\n",
       "      <td>07</td>\n",
       "      <td>59</td>\n",
       "      <td>42</td>\n",
       "    </tr>\n",
       "    <tr>\n",
       "      <th>1</th>\n",
       "      <td>8</td>\n",
       "      <td>556</td>\n",
       "      <td>2947</td>\n",
       "      <td>2017-06-04</td>\n",
       "      <td>07</td>\n",
       "      <td>59</td>\n",
       "      <td>42</td>\n",
       "    </tr>\n",
       "    <tr>\n",
       "      <th>2</th>\n",
       "      <td>4</td>\n",
       "      <td>1090</td>\n",
       "      <td>3893</td>\n",
       "      <td>2017-06-04</td>\n",
       "      <td>07</td>\n",
       "      <td>59</td>\n",
       "      <td>42</td>\n",
       "    </tr>\n",
       "    <tr>\n",
       "      <th>3</th>\n",
       "      <td>0</td>\n",
       "      <td>204</td>\n",
       "      <td>2813</td>\n",
       "      <td>2017-06-04</td>\n",
       "      <td>07</td>\n",
       "      <td>59</td>\n",
       "      <td>42</td>\n",
       "    </tr>\n",
       "    <tr>\n",
       "      <th>4</th>\n",
       "      <td>7</td>\n",
       "      <td>718</td>\n",
       "      <td>2019</td>\n",
       "      <td>2017-06-04</td>\n",
       "      <td>07</td>\n",
       "      <td>59</td>\n",
       "      <td>42</td>\n",
       "    </tr>\n",
       "  </tbody>\n",
       "</table>\n",
       "</div>"
      ],
      "text/plain": [
       "   municipality_id  usage  total_capacity        Date Hour Minute Second\n",
       "0                9    454            1332  2017-06-04   07     59     42\n",
       "1                8    556            2947  2017-06-04   07     59     42\n",
       "2                4   1090            3893  2017-06-04   07     59     42\n",
       "3                0    204            2813  2017-06-04   07     59     42\n",
       "4                7    718            2019  2017-06-04   07     59     42"
      ]
     },
     "execution_count": 15,
     "metadata": {},
     "output_type": "execute_result"
    }
   ],
   "source": [
    "df[[ \"Hour\", \"Minute\", \"Second\"]] = df[\"Clock\"].apply(lambda x: pd.Series(str(x).split(\":\")))\n",
    "df.drop([\"Clock\"], axis = 1, inplace = True)\n",
    "df.head()"
   ]
  },
  {
   "cell_type": "code",
   "execution_count": 16,
   "id": "db8da205",
   "metadata": {},
   "outputs": [
    {
     "data": {
      "text/html": [
       "<div>\n",
       "<style scoped>\n",
       "    .dataframe tbody tr th:only-of-type {\n",
       "        vertical-align: middle;\n",
       "    }\n",
       "\n",
       "    .dataframe tbody tr th {\n",
       "        vertical-align: top;\n",
       "    }\n",
       "\n",
       "    .dataframe thead th {\n",
       "        text-align: right;\n",
       "    }\n",
       "</style>\n",
       "<table border=\"1\" class=\"dataframe\">\n",
       "  <thead>\n",
       "    <tr style=\"text-align: right;\">\n",
       "      <th></th>\n",
       "      <th>municipality_id</th>\n",
       "      <th>usage</th>\n",
       "      <th>total_capacity</th>\n",
       "      <th>Date</th>\n",
       "      <th>Hour</th>\n",
       "      <th>Minute</th>\n",
       "      <th>Second</th>\n",
       "      <th>Control</th>\n",
       "    </tr>\n",
       "  </thead>\n",
       "  <tbody>\n",
       "    <tr>\n",
       "      <th>0</th>\n",
       "      <td>9</td>\n",
       "      <td>454</td>\n",
       "      <td>1332</td>\n",
       "      <td>2017-06-04</td>\n",
       "      <td>07</td>\n",
       "      <td>59</td>\n",
       "      <td>42</td>\n",
       "      <td>9+2017-06-04+07</td>\n",
       "    </tr>\n",
       "    <tr>\n",
       "      <th>1</th>\n",
       "      <td>8</td>\n",
       "      <td>556</td>\n",
       "      <td>2947</td>\n",
       "      <td>2017-06-04</td>\n",
       "      <td>07</td>\n",
       "      <td>59</td>\n",
       "      <td>42</td>\n",
       "      <td>8+2017-06-04+07</td>\n",
       "    </tr>\n",
       "    <tr>\n",
       "      <th>2</th>\n",
       "      <td>4</td>\n",
       "      <td>1090</td>\n",
       "      <td>3893</td>\n",
       "      <td>2017-06-04</td>\n",
       "      <td>07</td>\n",
       "      <td>59</td>\n",
       "      <td>42</td>\n",
       "      <td>4+2017-06-04+07</td>\n",
       "    </tr>\n",
       "    <tr>\n",
       "      <th>3</th>\n",
       "      <td>0</td>\n",
       "      <td>204</td>\n",
       "      <td>2813</td>\n",
       "      <td>2017-06-04</td>\n",
       "      <td>07</td>\n",
       "      <td>59</td>\n",
       "      <td>42</td>\n",
       "      <td>0+2017-06-04+07</td>\n",
       "    </tr>\n",
       "    <tr>\n",
       "      <th>4</th>\n",
       "      <td>7</td>\n",
       "      <td>718</td>\n",
       "      <td>2019</td>\n",
       "      <td>2017-06-04</td>\n",
       "      <td>07</td>\n",
       "      <td>59</td>\n",
       "      <td>42</td>\n",
       "      <td>7+2017-06-04+07</td>\n",
       "    </tr>\n",
       "  </tbody>\n",
       "</table>\n",
       "</div>"
      ],
      "text/plain": [
       "   municipality_id  usage  total_capacity        Date Hour Minute Second  \\\n",
       "0                9    454            1332  2017-06-04   07     59     42   \n",
       "1                8    556            2947  2017-06-04   07     59     42   \n",
       "2                4   1090            3893  2017-06-04   07     59     42   \n",
       "3                0    204            2813  2017-06-04   07     59     42   \n",
       "4                7    718            2019  2017-06-04   07     59     42   \n",
       "\n",
       "           Control  \n",
       "0  9+2017-06-04+07  \n",
       "1  8+2017-06-04+07  \n",
       "2  4+2017-06-04+07  \n",
       "3  0+2017-06-04+07  \n",
       "4  7+2017-06-04+07  "
      ]
     },
     "execution_count": 16,
     "metadata": {},
     "output_type": "execute_result"
    }
   ],
   "source": [
    "import datetime\n",
    "df[\"Controla\"] = df['municipality_id'].astype(str) +\"+\"+ (df[\"Date\"].astype(str))\n",
    "df[\"Control\"] = df['Controla'].astype(str) +\"+\"+ df[\"Hour\"]\n",
    "df.drop(\"Controla\", axis = 1, inplace = True)\n",
    "df.head()"
   ]
  },
  {
   "cell_type": "code",
   "execution_count": 17,
   "id": "4dec7a7d",
   "metadata": {},
   "outputs": [],
   "source": [
    "def drop_rows(group):\n",
    "    group.sort_values(\"usage\", inplace=True, ascending=False)\n",
    "    return group.iloc[1:]\n",
    "\n",
    "df = df.groupby(\"Control\").apply(drop_rows).reset_index(drop=True)"
   ]
  },
  {
   "cell_type": "code",
   "execution_count": 18,
   "id": "80341d7e",
   "metadata": {},
   "outputs": [
    {
     "data": {
      "text/plain": [
       "(5790, 8)"
      ]
     },
     "execution_count": 18,
     "metadata": {},
     "output_type": "execute_result"
    }
   ],
   "source": [
    "df.shape"
   ]
  },
  {
   "cell_type": "code",
   "execution_count": 19,
   "id": "9ed26ff5",
   "metadata": {},
   "outputs": [
    {
     "data": {
      "text/html": [
       "<div>\n",
       "<style scoped>\n",
       "    .dataframe tbody tr th:only-of-type {\n",
       "        vertical-align: middle;\n",
       "    }\n",
       "\n",
       "    .dataframe tbody tr th {\n",
       "        vertical-align: top;\n",
       "    }\n",
       "\n",
       "    .dataframe thead th {\n",
       "        text-align: right;\n",
       "    }\n",
       "</style>\n",
       "<table border=\"1\" class=\"dataframe\">\n",
       "  <thead>\n",
       "    <tr style=\"text-align: right;\">\n",
       "      <th></th>\n",
       "      <th>municipality_id</th>\n",
       "      <th>usage</th>\n",
       "      <th>total_capacity</th>\n",
       "      <th>Date</th>\n",
       "      <th>Hour</th>\n",
       "      <th>Minute</th>\n",
       "      <th>Second</th>\n",
       "    </tr>\n",
       "  </thead>\n",
       "  <tbody>\n",
       "    <tr>\n",
       "      <th>0</th>\n",
       "      <td>0</td>\n",
       "      <td>247</td>\n",
       "      <td>2813</td>\n",
       "      <td>2017-06-04</td>\n",
       "      <td>08</td>\n",
       "      <td>25</td>\n",
       "      <td>42</td>\n",
       "    </tr>\n",
       "    <tr>\n",
       "      <th>1</th>\n",
       "      <td>0</td>\n",
       "      <td>429</td>\n",
       "      <td>2813</td>\n",
       "      <td>2017-06-04</td>\n",
       "      <td>09</td>\n",
       "      <td>32</td>\n",
       "      <td>46</td>\n",
       "    </tr>\n",
       "    <tr>\n",
       "      <th>2</th>\n",
       "      <td>0</td>\n",
       "      <td>534</td>\n",
       "      <td>2813</td>\n",
       "      <td>2017-06-04</td>\n",
       "      <td>10</td>\n",
       "      <td>26</td>\n",
       "      <td>49</td>\n",
       "    </tr>\n",
       "    <tr>\n",
       "      <th>3</th>\n",
       "      <td>0</td>\n",
       "      <td>597</td>\n",
       "      <td>2813</td>\n",
       "      <td>2017-06-04</td>\n",
       "      <td>11</td>\n",
       "      <td>25</td>\n",
       "      <td>47</td>\n",
       "    </tr>\n",
       "    <tr>\n",
       "      <th>4</th>\n",
       "      <td>0</td>\n",
       "      <td>590</td>\n",
       "      <td>2813</td>\n",
       "      <td>2017-06-04</td>\n",
       "      <td>13</td>\n",
       "      <td>29</td>\n",
       "      <td>45</td>\n",
       "    </tr>\n",
       "  </tbody>\n",
       "</table>\n",
       "</div>"
      ],
      "text/plain": [
       "   municipality_id  usage  total_capacity        Date Hour Minute Second\n",
       "0                0    247            2813  2017-06-04   08     25     42\n",
       "1                0    429            2813  2017-06-04   09     32     46\n",
       "2                0    534            2813  2017-06-04   10     26     49\n",
       "3                0    597            2813  2017-06-04   11     25     47\n",
       "4                0    590            2813  2017-06-04   13     29     45"
      ]
     },
     "execution_count": 19,
     "metadata": {},
     "output_type": "execute_result"
    }
   ],
   "source": [
    "df.drop(\"Control\", axis = 1, inplace = True)\n",
    "df.head()"
   ]
  },
  {
   "cell_type": "code",
   "execution_count": 20,
   "id": "c6a3c947",
   "metadata": {},
   "outputs": [
    {
     "data": {
      "text/html": [
       "<div>\n",
       "<style scoped>\n",
       "    .dataframe tbody tr th:only-of-type {\n",
       "        vertical-align: middle;\n",
       "    }\n",
       "\n",
       "    .dataframe tbody tr th {\n",
       "        vertical-align: top;\n",
       "    }\n",
       "\n",
       "    .dataframe thead th {\n",
       "        text-align: right;\n",
       "    }\n",
       "</style>\n",
       "<table border=\"1\" class=\"dataframe\">\n",
       "  <thead>\n",
       "    <tr style=\"text-align: right;\">\n",
       "      <th></th>\n",
       "      <th>municipality_id</th>\n",
       "      <th>usage</th>\n",
       "      <th>total_capacity</th>\n",
       "      <th>Date</th>\n",
       "      <th>Hour</th>\n",
       "      <th>Minute</th>\n",
       "      <th>Second</th>\n",
       "    </tr>\n",
       "    <tr>\n",
       "      <th>Date</th>\n",
       "      <th></th>\n",
       "      <th></th>\n",
       "      <th></th>\n",
       "      <th></th>\n",
       "      <th></th>\n",
       "      <th></th>\n",
       "      <th></th>\n",
       "    </tr>\n",
       "  </thead>\n",
       "  <tbody>\n",
       "    <tr>\n",
       "      <th>2017-06-04</th>\n",
       "      <td>0</td>\n",
       "      <td>247</td>\n",
       "      <td>2813</td>\n",
       "      <td>2017-06-04</td>\n",
       "      <td>08</td>\n",
       "      <td>25</td>\n",
       "      <td>42</td>\n",
       "    </tr>\n",
       "    <tr>\n",
       "      <th>2017-06-04</th>\n",
       "      <td>2</td>\n",
       "      <td>602</td>\n",
       "      <td>697</td>\n",
       "      <td>2017-06-04</td>\n",
       "      <td>14</td>\n",
       "      <td>57</td>\n",
       "      <td>13</td>\n",
       "    </tr>\n",
       "    <tr>\n",
       "      <th>2017-06-04</th>\n",
       "      <td>2</td>\n",
       "      <td>636</td>\n",
       "      <td>697</td>\n",
       "      <td>2017-06-04</td>\n",
       "      <td>14</td>\n",
       "      <td>29</td>\n",
       "      <td>49</td>\n",
       "    </tr>\n",
       "    <tr>\n",
       "      <th>2017-06-04</th>\n",
       "      <td>2</td>\n",
       "      <td>657</td>\n",
       "      <td>697</td>\n",
       "      <td>2017-06-04</td>\n",
       "      <td>13</td>\n",
       "      <td>29</td>\n",
       "      <td>45</td>\n",
       "    </tr>\n",
       "    <tr>\n",
       "      <th>2017-06-04</th>\n",
       "      <td>2</td>\n",
       "      <td>613</td>\n",
       "      <td>697</td>\n",
       "      <td>2017-06-04</td>\n",
       "      <td>11</td>\n",
       "      <td>25</td>\n",
       "      <td>47</td>\n",
       "    </tr>\n",
       "  </tbody>\n",
       "</table>\n",
       "</div>"
      ],
      "text/plain": [
       "            municipality_id  usage  total_capacity        Date Hour Minute  \\\n",
       "Date                                                                         \n",
       "2017-06-04                0    247            2813  2017-06-04   08     25   \n",
       "2017-06-04                2    602             697  2017-06-04   14     57   \n",
       "2017-06-04                2    636             697  2017-06-04   14     29   \n",
       "2017-06-04                2    657             697  2017-06-04   13     29   \n",
       "2017-06-04                2    613             697  2017-06-04   11     25   \n",
       "\n",
       "           Second  \n",
       "Date               \n",
       "2017-06-04     42  \n",
       "2017-06-04     13  \n",
       "2017-06-04     49  \n",
       "2017-06-04     45  \n",
       "2017-06-04     47  "
      ]
     },
     "execution_count": 20,
     "metadata": {},
     "output_type": "execute_result"
    }
   ],
   "source": [
    "df = df.set_index(df[\"Date\"])\n",
    "df = df.sort_index()\n",
    "df.head()"
   ]
  },
  {
   "cell_type": "code",
   "execution_count": 21,
   "id": "4b344fe2",
   "metadata": {},
   "outputs": [
    {
     "data": {
      "text/html": [
       "<div>\n",
       "<style scoped>\n",
       "    .dataframe tbody tr th:only-of-type {\n",
       "        vertical-align: middle;\n",
       "    }\n",
       "\n",
       "    .dataframe tbody tr th {\n",
       "        vertical-align: top;\n",
       "    }\n",
       "\n",
       "    .dataframe thead th {\n",
       "        text-align: right;\n",
       "    }\n",
       "</style>\n",
       "<table border=\"1\" class=\"dataframe\">\n",
       "  <thead>\n",
       "    <tr style=\"text-align: right;\">\n",
       "      <th></th>\n",
       "      <th>municipality_id</th>\n",
       "      <th>usage</th>\n",
       "      <th>total_capacity</th>\n",
       "      <th>Hour</th>\n",
       "      <th>Minute</th>\n",
       "      <th>Second</th>\n",
       "      <th>Day</th>\n",
       "      <th>DayofWeek</th>\n",
       "      <th>Month</th>\n",
       "      <th>Year</th>\n",
       "    </tr>\n",
       "    <tr>\n",
       "      <th>Date</th>\n",
       "      <th></th>\n",
       "      <th></th>\n",
       "      <th></th>\n",
       "      <th></th>\n",
       "      <th></th>\n",
       "      <th></th>\n",
       "      <th></th>\n",
       "      <th></th>\n",
       "      <th></th>\n",
       "      <th></th>\n",
       "    </tr>\n",
       "  </thead>\n",
       "  <tbody>\n",
       "    <tr>\n",
       "      <th>2017-06-04</th>\n",
       "      <td>0</td>\n",
       "      <td>247</td>\n",
       "      <td>2813</td>\n",
       "      <td>08</td>\n",
       "      <td>25</td>\n",
       "      <td>42</td>\n",
       "      <td>4</td>\n",
       "      <td>6</td>\n",
       "      <td>6</td>\n",
       "      <td>2017</td>\n",
       "    </tr>\n",
       "    <tr>\n",
       "      <th>2017-06-04</th>\n",
       "      <td>2</td>\n",
       "      <td>602</td>\n",
       "      <td>697</td>\n",
       "      <td>14</td>\n",
       "      <td>57</td>\n",
       "      <td>13</td>\n",
       "      <td>4</td>\n",
       "      <td>6</td>\n",
       "      <td>6</td>\n",
       "      <td>2017</td>\n",
       "    </tr>\n",
       "    <tr>\n",
       "      <th>2017-06-04</th>\n",
       "      <td>2</td>\n",
       "      <td>636</td>\n",
       "      <td>697</td>\n",
       "      <td>14</td>\n",
       "      <td>29</td>\n",
       "      <td>49</td>\n",
       "      <td>4</td>\n",
       "      <td>6</td>\n",
       "      <td>6</td>\n",
       "      <td>2017</td>\n",
       "    </tr>\n",
       "    <tr>\n",
       "      <th>2017-06-04</th>\n",
       "      <td>2</td>\n",
       "      <td>657</td>\n",
       "      <td>697</td>\n",
       "      <td>13</td>\n",
       "      <td>29</td>\n",
       "      <td>45</td>\n",
       "      <td>4</td>\n",
       "      <td>6</td>\n",
       "      <td>6</td>\n",
       "      <td>2017</td>\n",
       "    </tr>\n",
       "    <tr>\n",
       "      <th>2017-06-04</th>\n",
       "      <td>2</td>\n",
       "      <td>613</td>\n",
       "      <td>697</td>\n",
       "      <td>11</td>\n",
       "      <td>25</td>\n",
       "      <td>47</td>\n",
       "      <td>4</td>\n",
       "      <td>6</td>\n",
       "      <td>6</td>\n",
       "      <td>2017</td>\n",
       "    </tr>\n",
       "  </tbody>\n",
       "</table>\n",
       "</div>"
      ],
      "text/plain": [
       "            municipality_id  usage  total_capacity Hour Minute Second  Day  \\\n",
       "Date                                                                         \n",
       "2017-06-04                0    247            2813   08     25     42    4   \n",
       "2017-06-04                2    602             697   14     57     13    4   \n",
       "2017-06-04                2    636             697   14     29     49    4   \n",
       "2017-06-04                2    657             697   13     29     45    4   \n",
       "2017-06-04                2    613             697   11     25     47    4   \n",
       "\n",
       "            DayofWeek  Month  Year  \n",
       "Date                                \n",
       "2017-06-04          6      6  2017  \n",
       "2017-06-04          6      6  2017  \n",
       "2017-06-04          6      6  2017  \n",
       "2017-06-04          6      6  2017  \n",
       "2017-06-04          6      6  2017  "
      ]
     },
     "execution_count": 21,
     "metadata": {},
     "output_type": "execute_result"
    }
   ],
   "source": [
    "df[\"Date\"] = pd.to_datetime(df[\"Date\"], infer_datetime_format=True, utc=True)\n",
    "df[\"Day\"] =df[\"Date\"].dt.day\n",
    "df[\"DayofWeek\"] =df[\"Date\"].dt.dayofweek\n",
    "df[\"Month\"] = df[\"Date\"].dt.month\n",
    "df[\"Year\"] = df[\"Date\"].dt.year\n",
    "df.drop(\"Date\", axis = 1, inplace = True)\n",
    "df.head()\n"
   ]
  },
  {
   "cell_type": "markdown",
   "id": "ceac73b8",
   "metadata": {},
   "source": [
    "print(df[\"Year\"].value_counts())\n",
    "print(df[\"Day\"].value_counts())\n",
    "print(df[\"DayofWeek\"].value_counts())\n",
    "print(df[\"Month\"].value_counts())"
   ]
  },
  {
   "cell_type": "code",
   "execution_count": 22,
   "id": "030c8f73",
   "metadata": {},
   "outputs": [],
   "source": [
    "df.drop(\"Year\", axis = 1, inplace = True)\n",
    "#dummy variable because municipality is same total_capacity\n",
    "df.drop(\"total_capacity\", axis = 1, inplace = True)"
   ]
  },
  {
   "cell_type": "code",
   "execution_count": 23,
   "id": "2e3972f9",
   "metadata": {},
   "outputs": [
    {
     "data": {
      "text/html": [
       "<div>\n",
       "<style scoped>\n",
       "    .dataframe tbody tr th:only-of-type {\n",
       "        vertical-align: middle;\n",
       "    }\n",
       "\n",
       "    .dataframe tbody tr th {\n",
       "        vertical-align: top;\n",
       "    }\n",
       "\n",
       "    .dataframe thead th {\n",
       "        text-align: right;\n",
       "    }\n",
       "</style>\n",
       "<table border=\"1\" class=\"dataframe\">\n",
       "  <thead>\n",
       "    <tr style=\"text-align: right;\">\n",
       "      <th></th>\n",
       "      <th>usage</th>\n",
       "      <th>Hour</th>\n",
       "      <th>Minute</th>\n",
       "      <th>Second</th>\n",
       "      <th>Month_6</th>\n",
       "      <th>Month_7</th>\n",
       "      <th>Month_8</th>\n",
       "      <th>Day_2</th>\n",
       "      <th>Day_3</th>\n",
       "      <th>Day_4</th>\n",
       "      <th>...</th>\n",
       "      <th>DayofWeek_6</th>\n",
       "      <th>Municipality_id_1</th>\n",
       "      <th>Municipality_id_2</th>\n",
       "      <th>Municipality_id_3</th>\n",
       "      <th>Municipality_id_4</th>\n",
       "      <th>Municipality_id_5</th>\n",
       "      <th>Municipality_id_6</th>\n",
       "      <th>Municipality_id_7</th>\n",
       "      <th>Municipality_id_8</th>\n",
       "      <th>Municipality_id_9</th>\n",
       "    </tr>\n",
       "    <tr>\n",
       "      <th>Date</th>\n",
       "      <th></th>\n",
       "      <th></th>\n",
       "      <th></th>\n",
       "      <th></th>\n",
       "      <th></th>\n",
       "      <th></th>\n",
       "      <th></th>\n",
       "      <th></th>\n",
       "      <th></th>\n",
       "      <th></th>\n",
       "      <th></th>\n",
       "      <th></th>\n",
       "      <th></th>\n",
       "      <th></th>\n",
       "      <th></th>\n",
       "      <th></th>\n",
       "      <th></th>\n",
       "      <th></th>\n",
       "      <th></th>\n",
       "      <th></th>\n",
       "      <th></th>\n",
       "    </tr>\n",
       "  </thead>\n",
       "  <tbody>\n",
       "    <tr>\n",
       "      <th>2017-06-04</th>\n",
       "      <td>247</td>\n",
       "      <td>08</td>\n",
       "      <td>25</td>\n",
       "      <td>42</td>\n",
       "      <td>1</td>\n",
       "      <td>0</td>\n",
       "      <td>0</td>\n",
       "      <td>0</td>\n",
       "      <td>0</td>\n",
       "      <td>1</td>\n",
       "      <td>...</td>\n",
       "      <td>1</td>\n",
       "      <td>0</td>\n",
       "      <td>0</td>\n",
       "      <td>0</td>\n",
       "      <td>0</td>\n",
       "      <td>0</td>\n",
       "      <td>0</td>\n",
       "      <td>0</td>\n",
       "      <td>0</td>\n",
       "      <td>0</td>\n",
       "    </tr>\n",
       "    <tr>\n",
       "      <th>2017-06-04</th>\n",
       "      <td>602</td>\n",
       "      <td>14</td>\n",
       "      <td>57</td>\n",
       "      <td>13</td>\n",
       "      <td>1</td>\n",
       "      <td>0</td>\n",
       "      <td>0</td>\n",
       "      <td>0</td>\n",
       "      <td>0</td>\n",
       "      <td>1</td>\n",
       "      <td>...</td>\n",
       "      <td>1</td>\n",
       "      <td>0</td>\n",
       "      <td>1</td>\n",
       "      <td>0</td>\n",
       "      <td>0</td>\n",
       "      <td>0</td>\n",
       "      <td>0</td>\n",
       "      <td>0</td>\n",
       "      <td>0</td>\n",
       "      <td>0</td>\n",
       "    </tr>\n",
       "    <tr>\n",
       "      <th>2017-06-04</th>\n",
       "      <td>636</td>\n",
       "      <td>14</td>\n",
       "      <td>29</td>\n",
       "      <td>49</td>\n",
       "      <td>1</td>\n",
       "      <td>0</td>\n",
       "      <td>0</td>\n",
       "      <td>0</td>\n",
       "      <td>0</td>\n",
       "      <td>1</td>\n",
       "      <td>...</td>\n",
       "      <td>1</td>\n",
       "      <td>0</td>\n",
       "      <td>1</td>\n",
       "      <td>0</td>\n",
       "      <td>0</td>\n",
       "      <td>0</td>\n",
       "      <td>0</td>\n",
       "      <td>0</td>\n",
       "      <td>0</td>\n",
       "      <td>0</td>\n",
       "    </tr>\n",
       "    <tr>\n",
       "      <th>2017-06-04</th>\n",
       "      <td>657</td>\n",
       "      <td>13</td>\n",
       "      <td>29</td>\n",
       "      <td>45</td>\n",
       "      <td>1</td>\n",
       "      <td>0</td>\n",
       "      <td>0</td>\n",
       "      <td>0</td>\n",
       "      <td>0</td>\n",
       "      <td>1</td>\n",
       "      <td>...</td>\n",
       "      <td>1</td>\n",
       "      <td>0</td>\n",
       "      <td>1</td>\n",
       "      <td>0</td>\n",
       "      <td>0</td>\n",
       "      <td>0</td>\n",
       "      <td>0</td>\n",
       "      <td>0</td>\n",
       "      <td>0</td>\n",
       "      <td>0</td>\n",
       "    </tr>\n",
       "    <tr>\n",
       "      <th>2017-06-04</th>\n",
       "      <td>613</td>\n",
       "      <td>11</td>\n",
       "      <td>25</td>\n",
       "      <td>47</td>\n",
       "      <td>1</td>\n",
       "      <td>0</td>\n",
       "      <td>0</td>\n",
       "      <td>0</td>\n",
       "      <td>0</td>\n",
       "      <td>1</td>\n",
       "      <td>...</td>\n",
       "      <td>1</td>\n",
       "      <td>0</td>\n",
       "      <td>1</td>\n",
       "      <td>0</td>\n",
       "      <td>0</td>\n",
       "      <td>0</td>\n",
       "      <td>0</td>\n",
       "      <td>0</td>\n",
       "      <td>0</td>\n",
       "      <td>0</td>\n",
       "    </tr>\n",
       "  </tbody>\n",
       "</table>\n",
       "<p>5 rows × 51 columns</p>\n",
       "</div>"
      ],
      "text/plain": [
       "            usage Hour Minute Second  Month_6  Month_7  Month_8  Day_2  Day_3  \\\n",
       "Date                                                                            \n",
       "2017-06-04    247   08     25     42        1        0        0      0      0   \n",
       "2017-06-04    602   14     57     13        1        0        0      0      0   \n",
       "2017-06-04    636   14     29     49        1        0        0      0      0   \n",
       "2017-06-04    657   13     29     45        1        0        0      0      0   \n",
       "2017-06-04    613   11     25     47        1        0        0      0      0   \n",
       "\n",
       "            Day_4  ...  DayofWeek_6  Municipality_id_1  Municipality_id_2  \\\n",
       "Date               ...                                                      \n",
       "2017-06-04      1  ...            1                  0                  0   \n",
       "2017-06-04      1  ...            1                  0                  1   \n",
       "2017-06-04      1  ...            1                  0                  1   \n",
       "2017-06-04      1  ...            1                  0                  1   \n",
       "2017-06-04      1  ...            1                  0                  1   \n",
       "\n",
       "            Municipality_id_3  Municipality_id_4  Municipality_id_5  \\\n",
       "Date                                                                  \n",
       "2017-06-04                  0                  0                  0   \n",
       "2017-06-04                  0                  0                  0   \n",
       "2017-06-04                  0                  0                  0   \n",
       "2017-06-04                  0                  0                  0   \n",
       "2017-06-04                  0                  0                  0   \n",
       "\n",
       "            Municipality_id_6  Municipality_id_7  Municipality_id_8  \\\n",
       "Date                                                                  \n",
       "2017-06-04                  0                  0                  0   \n",
       "2017-06-04                  0                  0                  0   \n",
       "2017-06-04                  0                  0                  0   \n",
       "2017-06-04                  0                  0                  0   \n",
       "2017-06-04                  0                  0                  0   \n",
       "\n",
       "            Municipality_id_9  \n",
       "Date                           \n",
       "2017-06-04                  0  \n",
       "2017-06-04                  0  \n",
       "2017-06-04                  0  \n",
       "2017-06-04                  0  \n",
       "2017-06-04                  0  \n",
       "\n",
       "[5 rows x 51 columns]"
      ]
     },
     "execution_count": 23,
     "metadata": {},
     "output_type": "execute_result"
    }
   ],
   "source": [
    "df = pd.get_dummies(df, columns=[\"Month\"],  prefix=\"Month\")\n",
    "df = pd.get_dummies(df, drop_first=True, columns=[\"Day\"],  prefix=\"Day\")\n",
    "df = pd.get_dummies(df, drop_first=True, columns=[\"DayofWeek\"],  prefix=\"DayofWeek\")\n",
    "df = pd.get_dummies(df, drop_first=True, columns=[\"municipality_id\"],  prefix=\"Municipality_id\")\n",
    "#df = pd.get_dummies(df, columns=[\"Minute\"],  prefix=\"Minute\")\n",
    "#df = pd.get_dummies(df, columns=[\"Hour\"],  prefix=\"Hour\")\n",
    "df.head()\n",
    "#print(df[\"Month_6\"].value_counts())\n",
    "#print(df[\"Month_7\"].value_counts())\n",
    "#print(df[\"Month_8\"].value_counts())"
   ]
  },
  {
   "cell_type": "code",
   "execution_count": 24,
   "id": "81992b1f",
   "metadata": {},
   "outputs": [
    {
     "data": {
      "text/plain": [
       "(5790, 51)"
      ]
     },
     "execution_count": 24,
     "metadata": {},
     "output_type": "execute_result"
    }
   ],
   "source": [
    "df.shape"
   ]
  },
  {
   "cell_type": "markdown",
   "id": "6ee9359d",
   "metadata": {},
   "source": [
    "#2017-08-05 to 2017-08-19\n"
   ]
  },
  {
   "cell_type": "code",
   "execution_count": 25,
   "id": "14b4c2a2",
   "metadata": {},
   "outputs": [],
   "source": [
    "lasttraindate= pd.to_datetime('2017-08-04').date()\n",
    "firsttestdate=pd.to_datetime('2017-08-05').date()\n",
    "lasttestdate=pd.to_datetime('2017-08-19').date()\n",
    "train = df[:lasttraindate]\n",
    "test = df[firsttestdate:lasttestdate]"
   ]
  },
  {
   "cell_type": "code",
   "execution_count": 26,
   "id": "dcd9837c",
   "metadata": {},
   "outputs": [
    {
     "name": "stdout",
     "output_type": "stream",
     "text": [
      "(4678, 50)\n",
      "(4678, 1)\n",
      "(1112, 50)\n",
      "(1112, 1)\n"
     ]
    }
   ],
   "source": [
    "target = [\"usage\"] \n",
    "predictors= list(set(list(train.columns))-set(target))\n",
    "\n",
    "X_train = train[predictors].values\n",
    "Y_train = train[target].values\n",
    "\n",
    "print(X_train.shape)\n",
    "print(Y_train.shape)\n",
    "\n",
    "X_test = test[predictors].values\n",
    "Y_test = test[target].values\n",
    "\n",
    "print(X_test.shape)\n",
    "print(Y_test.shape)"
   ]
  },
  {
   "cell_type": "code",
   "execution_count": 27,
   "id": "1f857eba",
   "metadata": {},
   "outputs": [],
   "source": [
    "from sklearn.metrics import mean_squared_error\n",
    "from sklearn.metrics import r2_score"
   ]
  },
  {
   "cell_type": "code",
   "execution_count": 28,
   "id": "22e2181b",
   "metadata": {},
   "outputs": [
    {
     "name": "stdout",
     "output_type": "stream",
     "text": [
      "267.07823837921626\n",
      "0.6532365509164243\n"
     ]
    }
   ],
   "source": [
    "from sklearn.linear_model import LinearRegression\n",
    "LR = LinearRegression()\n",
    "LR.fit(X_train, Y_train)\n",
    "Y_pred = LR.predict(X_test)\n",
    "print(np.sqrt(mean_squared_error(Y_test, Y_pred)))\n",
    "print(r2_score(Y_test, Y_pred))"
   ]
  },
  {
   "cell_type": "code",
   "execution_count": 29,
   "id": "7d43a6b3",
   "metadata": {},
   "outputs": [
    {
     "name": "stdout",
     "output_type": "stream",
     "text": [
      "224.77759591627296\n",
      "0.754380777715011\n"
     ]
    }
   ],
   "source": [
    "from sklearn.tree import DecisionTreeRegressor\n",
    "DTR= DecisionTreeRegressor(random_state=3,criterion=\"friedman_mse\", splitter= \"random\")\n",
    "DTR.fit(X_train, Y_train)\n",
    "Y_pred = DTR.predict(X_test)\n",
    "print(np.sqrt(mean_squared_error(Y_test,Y_pred))) \n",
    "print(r2_score(Y_test, Y_pred))"
   ]
  },
  {
   "cell_type": "code",
   "execution_count": 30,
   "id": "7f7682c0",
   "metadata": {},
   "outputs": [
    {
     "name": "stdout",
     "output_type": "stream",
     "text": [
      "210.3339126171824\n",
      "0.784932439358065\n"
     ]
    }
   ],
   "source": [
    "from sklearn.ensemble import RandomForestRegressor\n",
    "RFR= RandomForestRegressor(n_estimators=100, random_state=100)\n",
    "RFR.fit(X_train, Y_train.ravel())\n",
    "Y_pred = RFR.predict(X_test)\n",
    "print(np.sqrt(mean_squared_error(Y_test, Y_pred))) \n",
    "print(r2_score(Y_test, Y_pred))"
   ]
  },
  {
   "cell_type": "code",
   "execution_count": 31,
   "id": "01eee0b6",
   "metadata": {},
   "outputs": [
    {
     "name": "stdout",
     "output_type": "stream",
     "text": [
      "219185434.8026598\n",
      "-233549902602.44977\n"
     ]
    }
   ],
   "source": [
    "from sklearn.preprocessing import PolynomialFeatures\n",
    "poly_reg = PolynomialFeatures(degree = 4)\n",
    "x_poly = poly_reg.fit_transform(X_train)\n",
    "LR2 = LinearRegression()\n",
    "LR2.fit(x_poly,Y_train)\n",
    "Y_pred = LR2.predict(poly_reg.fit_transform(X_test))\n",
    "print(np.sqrt(mean_squared_error(Y_test, Y_pred)))\n",
    "print(r2_score(Y_test, Y_pred))"
   ]
  },
  {
   "cell_type": "code",
   "execution_count": 34,
   "id": "a84808b0",
   "metadata": {},
   "outputs": [
    {
     "name": "stdout",
     "output_type": "stream",
     "text": [
      "14949704520.63308\n",
      "-1086479473907239.1\n"
     ]
    }
   ],
   "source": [
    "poly_reg = PolynomialFeatures(degree = 3)\n",
    "x_poly = poly_reg.fit_transform(X_train)\n",
    "LR3 = LinearRegression()\n",
    "LR3.fit(x_poly,Y_train)\n",
    "Y_pred = LR3.predict(poly_reg.fit_transform(X_test))\n",
    "print(np.sqrt(mean_squared_error(Y_test, Y_pred)))\n",
    "print(r2_score(Y_test, Y_pred))"
   ]
  },
  {
   "cell_type": "code",
   "execution_count": null,
   "id": "553ca14f",
   "metadata": {},
   "outputs": [],
   "source": []
  }
 ],
 "metadata": {
  "kernelspec": {
   "display_name": "Python 3 (ipykernel)",
   "language": "python",
   "name": "python3"
  },
  "language_info": {
   "codemirror_mode": {
    "name": "ipython",
    "version": 3
   },
   "file_extension": ".py",
   "mimetype": "text/x-python",
   "name": "python",
   "nbconvert_exporter": "python",
   "pygments_lexer": "ipython3",
   "version": "3.9.13"
  }
 },
 "nbformat": 4,
 "nbformat_minor": 5
}
